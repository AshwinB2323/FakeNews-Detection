{
 "cells": [
  {
   "cell_type": "code",
   "execution_count": 1,
   "id": "5679c9ca-31d4-4aa1-b61c-6d6dea15bd12",
   "metadata": {},
   "outputs": [],
   "source": [
    "import pandas as pd\n",
    "import matplotlib.pyplot as plt"
   ]
  },
  {
   "cell_type": "code",
   "execution_count": 3,
   "id": "f40634ba-baeb-42ce-a6f3-cf4387de3820",
   "metadata": {},
   "outputs": [],
   "source": [
    "import sys\n",
    "import os\n",
    "PROJECT_ROOT = os.path.abspath(os.path.join(os.getcwd(), \"..\")) \n",
    "sys.path.append(os.path.join(PROJECT_ROOT, \"data\"))\n",
    "from dataset import FakeNewsDataset\n",
    "from torch.utils.data import DataLoader\n",
    "from transformers import RobertaTokenizer\n",
    "MODEL_NAME = \"roberta-base\"\n",
    "tokenizer = RobertaTokenizer.from_pretrained(MODEL_NAME)"
   ]
  },
  {
   "cell_type": "code",
   "execution_count": 4,
   "id": "62111a90-1f6e-407c-8a22-8460f5743a91",
   "metadata": {},
   "outputs": [],
   "source": [
    "DATA_PATHS = {\n",
    "    \"ISOT\": \"../data/processed/processed_ISOT.csv\",\n",
    "    \"FakeNews-Kaggle\": \"../data/processed/processed_FakeNews.csv\",\n",
    "    \"LIAR\": \"../data/processed/processed_LIAR.csv\"\n",
    "}"
   ]
  },
  {
   "cell_type": "code",
   "execution_count": 5,
   "id": "7103a948-bd32-486f-987b-a8a7aa219f3f",
   "metadata": {},
   "outputs": [],
   "source": [
    "def load_dataset(name, file_path, batch_size=8):\n",
    "    print(f\"\\nLoading dataset: {name}\")\n",
    "    dataset = FakeNewsDataset(file_path, tokenizer)\n",
    "    dataset_loader = DataLoader(dataset, batch_size=batch_size, shuffle=True)  # Wrap with DataLoader\n",
    "    return dataset_loader"
   ]
  },
  {
   "cell_type": "code",
   "execution_count": 6,
   "id": "f95210e4-997a-4c9d-8aab-d22d83195c3f",
   "metadata": {},
   "outputs": [
    {
     "name": "stdout",
     "output_type": "stream",
     "text": [
      "\n",
      "Loading dataset: ISOT\n",
      "\n",
      "Loading dataset: FakeNews-Kaggle\n",
      "\n",
      "Loading dataset: LIAR\n"
     ]
    }
   ],
   "source": [
    "datasets = {name: load_dataset(name, path) for name, path in DATA_PATHS.items()}"
   ]
  },
  {
   "cell_type": "code",
   "execution_count": 7,
   "id": "417beb46-1f16-4fb8-870e-54e105ec253b",
   "metadata": {},
   "outputs": [
    {
     "name": "stdout",
     "output_type": "stream",
     "text": [
      "ISOT: 44898 samples\n",
      "                                               title  \\\n",
      "0   Donald Trump Sends Out Embarrassing New Year’...   \n",
      "1   Drunk Bragging Trump Staffer Started Russian ...   \n",
      "2   Sheriff David Clarke Becomes An Internet Joke...   \n",
      "3   Trump Is So Obsessed He Even Has Obama’s Name...   \n",
      "4   Pope Francis Just Called Out Donald Trump Dur...   \n",
      "\n",
      "                                                text subject  \\\n",
      "0  Donald Trump just couldn t wish all Americans ...    News   \n",
      "1  House Intelligence Committee Chairman Devin Nu...    News   \n",
      "2  On Friday, it was revealed that former Milwauk...    News   \n",
      "3  On Christmas day, Donald Trump announced that ...    News   \n",
      "4  Pope Francis used his annual Christmas Day mes...    News   \n",
      "\n",
      "                date  label  \n",
      "0  December 31, 2017      0  \n",
      "1  December 31, 2017      0  \n",
      "2  December 30, 2017      0  \n",
      "3  December 29, 2017      0  \n",
      "4  December 25, 2017      0  \n",
      "\n",
      "\n",
      "FakeNews-Kaggle: 20800 samples\n",
      "   id                                           headline              author  \\\n",
      "0   0  House Dem Aide: We Didn’t Even See Comey’s Let...       Darrell Lucus   \n",
      "1   1  FLYNN: Hillary Clinton, Big Woman on Campus - ...     Daniel J. Flynn   \n",
      "2   2                  Why the Truth Might Get You Fired  Consortiumnews.com   \n",
      "3   3  15 Civilians Killed In Single US Airstrike Hav...     Jessica Purkiss   \n",
      "4   4  Iranian woman jailed for fictional unpublished...      Howard Portnoy   \n",
      "\n",
      "                                                text  label  \n",
      "0  House Dem Aide: We Didn’t Even See Comey’s Let...      1  \n",
      "1  Ever get the feeling your life circles the rou...      0  \n",
      "2  Why the Truth Might Get You Fired October 29, ...      1  \n",
      "3  Videos 15 Civilians Killed In Single US Airstr...      1  \n",
      "4  Print \\nAn Iranian woman has been sentenced to...      1  \n",
      "\n",
      "\n",
      "LIAR: 8126 samples\n",
      "                                                text  label\n",
      "0  Says the Annies List political group supports ...      0\n",
      "1  Hillary Clinton agrees with John McCain \"by vo...      1\n",
      "2  Health care reform legislation is likely to ma...      0\n",
      "3  The Chicago Bears have had more starting quart...      1\n",
      "4  Jim Dunnam has not lived in the district he re...      0\n",
      "\n",
      "\n"
     ]
    }
   ],
   "source": [
    "for name, file_path in DATA_PATHS.items():\n",
    "    df = pd.read_csv(file_path)\n",
    "    print(f\"{name}: {len(df)} samples\")\n",
    "    print(df.head())\n",
    "    print(\"\\n\")"
   ]
  },
  {
   "cell_type": "code",
   "execution_count": 11,
   "id": "c6954233-d988-4049-9d26-0564d4e86753",
   "metadata": {},
   "outputs": [],
   "source": [
    "def plot_class_distribution():\n",
    "    fig, axes = plt.subplots(1, 3, figsize=(15, 5))\n",
    "    for i, (name, file_path) in enumerate(DATA_PATHS.items()):\n",
    "        df = pd.read_csv(file_path)\n",
    "        df['label'].value_counts().plot(kind='bar', ax=axes[i], title=name)\n",
    "    plt.show()"
   ]
  },
  {
   "cell_type": "code",
   "execution_count": 12,
   "id": "6895f931-f50c-403d-a4a1-44763dc9532e",
   "metadata": {},
   "outputs": [
    {
     "data": {
      "image/png": "[encoded data removed]",
      "text/plain": [
       "<Figure size 1500x500 with 3 Axes>"
      ]
     },
     "metadata": {},
     "output_type": "display_data"
    }
   ],
   "source": [
    "plot_class_distribution()"
   ]
  },
  {
   "cell_type": "code",
   "execution_count": 13,
   "id": "03a9bd9e-b960-49f8-99d6-78ea5a4d2594",
   "metadata": {},
   "outputs": [
    {
     "name": "stdout",
     "output_type": "stream",
     "text": [
      "\n",
      "Example samples from ISOT:\n",
      "Sample 1: tensor([   0, 5762,   36, 1251,   43,  111,  270,  807,  140,   17,   27,   29,\n",
      "        9461,    7,  836, 2232, 3227,   11,  121,    4])... (truncated)\n",
      "Sample 2: tensor([   0, 5762,   36, 1251,   43,  111, 1590,    5,   78,  411,  377,    9,\n",
      "           5,  140, 5662,    6,    5, 6982, 5922, 3131])... (truncated)\n",
      "Sample 3: tensor([    0, 14280,  1729,    36,  1251,    43,   111,   121,     4,   104,\n",
      "            4,  1863,     9,   331,  9746,  8760,    15,   273,  5249,   103])... (truncated)\n",
      "\n",
      "Example samples from FakeNews-Kaggle:\n",
      "Sample 1: tensor([    0,  6934,   673,  5885,   344, 19621, 16790,  1437,    93,  1437,\n",
      "         1437,    83,  7673, 46329,  1788,    31,     5,  1437,  1437,  3336])... (truncated)\n",
      "Sample 2: tensor([    0, 41286,    16,     6,   117,    65,    64,   269,  3190, 12674,\n",
      "        12695,     4,   125,    23,   944,  7374,  5104,    42,    76,     6])... (truncated)\n",
      "Sample 3: tensor([    0,  4043,   111,  2668, 27528,    38, 38489, 20253,    16,    41,\n",
      "         2979,  1761,     8,   143,  5086,    50,   335,   342,  7264,    30])... (truncated)\n",
      "\n",
      "Example samples from LIAR:\n",
      "Sample 1: tensor([   0, 4148,  549,   37,   74,  422,   13,  121,    4,  104,    4, 1112,\n",
      "          11, 1125,    4,    2,    1,    1,    1,    1])... (truncated)\n",
      "Sample 2: tensor([    0, 28084,     7,     5, 16721,  8939,     6,    82,    32,   164,\n",
      "            7,    28, 16031,     4, 13609,    32,   164,     7,  7403,     4])... (truncated)\n",
      "Sample 3: tensor([    0, 15243,  2396,  4472,    31,   632,   433,  1194,   268,     6,\n",
      "           38,   222,   400,  1228,    70,   552,     6,     5,    94,   130])... (truncated)\n"
     ]
    }
   ],
   "source": [
    "for name, dataset_loader in datasets.items():\n",
    "    print(f\"\\nExample samples from {name}:\")\n",
    "    batch = next(iter(dataset_loader))\n",
    "    for i in range(3):\n",
    "        print(f\"Sample {i+1}: {batch['input_ids'][i][:20]}... (truncated)\")"
   ]
  },
  {
   "cell_type": "code",
   "execution_count": null,
   "id": "c410f3ea-7a5b-421a-8977-aa67c13f5e48",
   "metadata": {},
   "outputs": [],
   "source": []
  }
 ],
 "metadata": {
  "kernelspec": {
   "display_name": "Python 3 (ipykernel)",
   "language": "python",
   "name": "python3"
  },
  "language_info": {
   "codemirror_mode": {
    "name": "ipython",
    "version": 3
   },
   "file_extension": ".py",
   "mimetype": "text/x-python",
   "name": "python",
   "nbconvert_exporter": "python",
   "pygments_lexer": "ipython3",
   "version": "3.12.2"
  }
 },
 "nbformat": 4,
 "nbformat_minor": 5
}
