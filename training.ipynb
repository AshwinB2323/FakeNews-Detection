{
 "cells": [
  {
   "cell_type": "code",
   "execution_count": 1,
   "id": "95d0642b-d537-4305-8325-34f6160dc197",
   "metadata": {},
   "outputs": [
    {
     "name": "stdout",
     "output_type": "stream",
     "text": [
      "Some weights of RobertaForSequenceClassification were not initialized from the model checkpoint at roberta-base and are newly initialized: ['classifier.dense.bias', 'classifier.dense.weight', 'classifier.out_proj.bias', 'classifier.out_proj.weight']\n",
      "You should probably TRAIN this model on a down-stream task to be able to use it for predictions and inference.\n",
      "Training on dataset: FakeNews-Kaggle\n",
      "Epoch 1/3 - Loss: 23.9482, Accuracy: 99.16%                                     \n",
      "Model saved: ../model/FakeNews-Kaggle_epoch1.pth\n",
      "Epoch 2/3 - Loss: 5.9800, Accuracy: 99.78%                                      \n",
      "Model saved: ../model/FakeNews-Kaggle_epoch2.pth\n",
      "Epoch 3/3 - Loss: 5.5166, Accuracy: 99.84%                                      \n",
      "Model saved: ../model/FakeNews-Kaggle_epoch3.pth\n",
      "Validation Accuracy on FakeNews-Kaggle: 99.97%                                  \n",
      "Validation Accuracy on FakeNews-Kaggle: 99.97%                                  \n",
      "Final Results for FakeNews-Kaggle -> Train: 99.84%, Validation: 99.97%, Test: 99.97%\n",
      "Training on dataset: LIAR\n",
      "Epoch 1/3 - Loss: 246.5400, Accuracy: 56.12%                                    \n",
      "Model saved: ../model/LIAR_epoch1.pth\n",
      "Epoch 2/3 - Loss: 232.8189, Accuracy: 62.80%                                    \n",
      "Model saved: ../model/LIAR_epoch2.pth\n",
      "Epoch 3/3 - Loss: 221.1347, Accuracy: 66.39%                                    \n",
      "Model saved: ../model/LIAR_epoch3.pth\n",
      "Validation Accuracy on LIAR: 70.94%                                             \n",
      "Validation Accuracy on LIAR: 67.70%                                             \n",
      "Final Results for LIAR -> Train: 66.39%, Validation: 70.94%, Test: 67.70%\n",
      "Training on dataset: ISOT\n",
      "Epoch 1/3 - Loss: 23.6415, Accuracy: 99.54%                                     \n",
      "Model saved: ../model/ISOT_epoch1.pth\n",
      "Epoch 2/3 - Loss: 4.5379, Accuracy: 99.97%                                      \n",
      "Model saved: ../model/ISOT_epoch2.pth\n",
      "Epoch 3/3 - Loss: 7.4287, Accuracy: 99.95%                                      \n",
      "Model saved: ../model/ISOT_epoch3.pth\n",
      "Validation Accuracy on ISOT: 99.97%                                             \n",
      "Validation Accuracy on ISOT: 100.00%                                            \n",
      "Final Results for ISOT -> Train: 99.95%, Validation: 99.97%, Test: 100.00%\n",
      "Traceback (most recent call last):\n",
      "  File \"train.py\", line 107, in <module>\n",
      "    json.dump(results, f, indent=4)\n",
      "NameError: name 'json' is not defined\n"
     ]
    }
   ],
   "source": [
    "!python train.py"
   ]
  },
  {
   "cell_type": "code",
   "execution_count": 3,
   "id": "b5bf61a8-4c8e-4ad5-a796-196ff445b62e",
   "metadata": {},
   "outputs": [],
   "source": [
    "import json\n",
    "import os\n",
    "\n",
    "# Define the results dictionary manually if needed (or reload from train.py)\n",
    "results = {\n",
    "    \"FakeNews-Kaggle\": {\"train_accuracy\": 99.84, \"validation_accuracy\": 99.97, \"test_accuracy\": 99.97},\n",
    "    \"LIAR\": {\"train_accuracy\": 66.39, \"validation_accuracy\": 70.94, \"test_accuracy\": 67.70},\n",
    "    \"ISOT\": {\"train_accuracy\": 99.95, \"validation_accuracy\": 99.97, \"test_accuracy\": 100.00}\n",
    "}\n",
    "\n",
    "# Ensure the models directory exists\n",
    "os.makedirs(\"../model\", exist_ok=True)\n",
    "\n",
    "# Save the results to a JSON file\n",
    "with open(\"../model/results.json\", \"w\") as f:\n",
    "    json.dump(results, f, indent=4)"
   ]
  }
 ],
 "metadata": {
  "kernelspec": {
   "display_name": "Python 3 (ipykernel)",
   "language": "python",
   "name": "python3"
  },
  "language_info": {
   "codemirror_mode": {
    "name": "ipython",
    "version": 3
   },
   "file_extension": ".py",
   "mimetype": "text/x-python",
   "name": "python",
   "nbconvert_exporter": "python",
   "pygments_lexer": "ipython3",
   "version": "3.8.16"
  }
 },
 "nbformat": 4,
 "nbformat_minor": 5
}
